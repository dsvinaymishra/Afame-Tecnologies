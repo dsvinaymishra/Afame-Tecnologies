{
 "cells": [
  {
   "cell_type": "markdown",
   "id": "c9381500",
   "metadata": {},
   "source": [
    "# Project 3 - Titanic Survival Prediction"
   ]
  },
  {
   "cell_type": "code",
   "execution_count": 1,
   "id": "df75d07f",
   "metadata": {},
   "outputs": [],
   "source": [
    "import pandas as pd\n",
    "import numpy as np\n",
    "import matplotlib.pyplot as plt\n",
    "import seaborn as sns"
   ]
  },
  {
   "cell_type": "code",
   "execution_count": 2,
   "id": "50c3e6ba",
   "metadata": {},
   "outputs": [
    {
     "data": {
      "text/html": [
       "<div>\n",
       "<style scoped>\n",
       "    .dataframe tbody tr th:only-of-type {\n",
       "        vertical-align: middle;\n",
       "    }\n",
       "\n",
       "    .dataframe tbody tr th {\n",
       "        vertical-align: top;\n",
       "    }\n",
       "\n",
       "    .dataframe thead th {\n",
       "        text-align: right;\n",
       "    }\n",
       "</style>\n",
       "<table border=\"1\" class=\"dataframe\">\n",
       "  <thead>\n",
       "    <tr style=\"text-align: right;\">\n",
       "      <th></th>\n",
       "      <th>PassengerId</th>\n",
       "      <th>Survived</th>\n",
       "      <th>Pclass</th>\n",
       "      <th>Name</th>\n",
       "      <th>Sex</th>\n",
       "      <th>Age</th>\n",
       "      <th>SibSp</th>\n",
       "      <th>Parch</th>\n",
       "      <th>Ticket</th>\n",
       "      <th>Fare</th>\n",
       "      <th>Cabin</th>\n",
       "      <th>Embarked</th>\n",
       "    </tr>\n",
       "  </thead>\n",
       "  <tbody>\n",
       "    <tr>\n",
       "      <th>0</th>\n",
       "      <td>1</td>\n",
       "      <td>0</td>\n",
       "      <td>3</td>\n",
       "      <td>Braund, Mr. Owen Harris</td>\n",
       "      <td>male</td>\n",
       "      <td>22.0</td>\n",
       "      <td>1</td>\n",
       "      <td>0</td>\n",
       "      <td>A/5 21171</td>\n",
       "      <td>7.2500</td>\n",
       "      <td>NaN</td>\n",
       "      <td>S</td>\n",
       "    </tr>\n",
       "    <tr>\n",
       "      <th>1</th>\n",
       "      <td>2</td>\n",
       "      <td>1</td>\n",
       "      <td>1</td>\n",
       "      <td>Cumings, Mrs. John Bradley (Florence Briggs Th...</td>\n",
       "      <td>female</td>\n",
       "      <td>38.0</td>\n",
       "      <td>1</td>\n",
       "      <td>0</td>\n",
       "      <td>PC 17599</td>\n",
       "      <td>71.2833</td>\n",
       "      <td>C85</td>\n",
       "      <td>C</td>\n",
       "    </tr>\n",
       "  </tbody>\n",
       "</table>\n",
       "</div>"
      ],
      "text/plain": [
       "   PassengerId  Survived  Pclass  \\\n",
       "0            1         0       3   \n",
       "1            2         1       1   \n",
       "\n",
       "                                                Name     Sex   Age  SibSp  \\\n",
       "0                            Braund, Mr. Owen Harris    male  22.0      1   \n",
       "1  Cumings, Mrs. John Bradley (Florence Briggs Th...  female  38.0      1   \n",
       "\n",
       "   Parch     Ticket     Fare Cabin Embarked  \n",
       "0      0  A/5 21171   7.2500   NaN        S  \n",
       "1      0   PC 17599  71.2833   C85        C  "
      ]
     },
     "execution_count": 2,
     "metadata": {},
     "output_type": "execute_result"
    }
   ],
   "source": [
    "df = pd.read_csv('Titanic-Dataset.csv')\n",
    "df.head(2)"
   ]
  },
  {
   "cell_type": "code",
   "execution_count": 7,
   "id": "cde017d5",
   "metadata": {},
   "outputs": [
    {
     "data": {
      "text/plain": [
       "(891, 12)"
      ]
     },
     "execution_count": 7,
     "metadata": {},
     "output_type": "execute_result"
    }
   ],
   "source": [
    "df.shape"
   ]
  },
  {
   "cell_type": "code",
   "execution_count": 4,
   "id": "385e7c91",
   "metadata": {},
   "outputs": [
    {
     "data": {
      "text/html": [
       "<div>\n",
       "<style scoped>\n",
       "    .dataframe tbody tr th:only-of-type {\n",
       "        vertical-align: middle;\n",
       "    }\n",
       "\n",
       "    .dataframe tbody tr th {\n",
       "        vertical-align: top;\n",
       "    }\n",
       "\n",
       "    .dataframe thead th {\n",
       "        text-align: right;\n",
       "    }\n",
       "</style>\n",
       "<table border=\"1\" class=\"dataframe\">\n",
       "  <thead>\n",
       "    <tr style=\"text-align: right;\">\n",
       "      <th></th>\n",
       "      <th>PassengerId</th>\n",
       "      <th>Survived</th>\n",
       "      <th>Pclass</th>\n",
       "      <th>Age</th>\n",
       "      <th>SibSp</th>\n",
       "      <th>Parch</th>\n",
       "      <th>Fare</th>\n",
       "    </tr>\n",
       "  </thead>\n",
       "  <tbody>\n",
       "    <tr>\n",
       "      <th>count</th>\n",
       "      <td>891.000000</td>\n",
       "      <td>891.000000</td>\n",
       "      <td>891.000000</td>\n",
       "      <td>714.000000</td>\n",
       "      <td>891.000000</td>\n",
       "      <td>891.000000</td>\n",
       "      <td>891.000000</td>\n",
       "    </tr>\n",
       "    <tr>\n",
       "      <th>mean</th>\n",
       "      <td>446.000000</td>\n",
       "      <td>0.383838</td>\n",
       "      <td>2.308642</td>\n",
       "      <td>29.699118</td>\n",
       "      <td>0.523008</td>\n",
       "      <td>0.381594</td>\n",
       "      <td>32.204208</td>\n",
       "    </tr>\n",
       "    <tr>\n",
       "      <th>std</th>\n",
       "      <td>257.353842</td>\n",
       "      <td>0.486592</td>\n",
       "      <td>0.836071</td>\n",
       "      <td>14.526497</td>\n",
       "      <td>1.102743</td>\n",
       "      <td>0.806057</td>\n",
       "      <td>49.693429</td>\n",
       "    </tr>\n",
       "    <tr>\n",
       "      <th>min</th>\n",
       "      <td>1.000000</td>\n",
       "      <td>0.000000</td>\n",
       "      <td>1.000000</td>\n",
       "      <td>0.420000</td>\n",
       "      <td>0.000000</td>\n",
       "      <td>0.000000</td>\n",
       "      <td>0.000000</td>\n",
       "    </tr>\n",
       "    <tr>\n",
       "      <th>25%</th>\n",
       "      <td>223.500000</td>\n",
       "      <td>0.000000</td>\n",
       "      <td>2.000000</td>\n",
       "      <td>20.125000</td>\n",
       "      <td>0.000000</td>\n",
       "      <td>0.000000</td>\n",
       "      <td>7.910400</td>\n",
       "    </tr>\n",
       "    <tr>\n",
       "      <th>50%</th>\n",
       "      <td>446.000000</td>\n",
       "      <td>0.000000</td>\n",
       "      <td>3.000000</td>\n",
       "      <td>28.000000</td>\n",
       "      <td>0.000000</td>\n",
       "      <td>0.000000</td>\n",
       "      <td>14.454200</td>\n",
       "    </tr>\n",
       "    <tr>\n",
       "      <th>75%</th>\n",
       "      <td>668.500000</td>\n",
       "      <td>1.000000</td>\n",
       "      <td>3.000000</td>\n",
       "      <td>38.000000</td>\n",
       "      <td>1.000000</td>\n",
       "      <td>0.000000</td>\n",
       "      <td>31.000000</td>\n",
       "    </tr>\n",
       "    <tr>\n",
       "      <th>max</th>\n",
       "      <td>891.000000</td>\n",
       "      <td>1.000000</td>\n",
       "      <td>3.000000</td>\n",
       "      <td>80.000000</td>\n",
       "      <td>8.000000</td>\n",
       "      <td>6.000000</td>\n",
       "      <td>512.329200</td>\n",
       "    </tr>\n",
       "  </tbody>\n",
       "</table>\n",
       "</div>"
      ],
      "text/plain": [
       "       PassengerId    Survived      Pclass         Age       SibSp  \\\n",
       "count   891.000000  891.000000  891.000000  714.000000  891.000000   \n",
       "mean    446.000000    0.383838    2.308642   29.699118    0.523008   \n",
       "std     257.353842    0.486592    0.836071   14.526497    1.102743   \n",
       "min       1.000000    0.000000    1.000000    0.420000    0.000000   \n",
       "25%     223.500000    0.000000    2.000000   20.125000    0.000000   \n",
       "50%     446.000000    0.000000    3.000000   28.000000    0.000000   \n",
       "75%     668.500000    1.000000    3.000000   38.000000    1.000000   \n",
       "max     891.000000    1.000000    3.000000   80.000000    8.000000   \n",
       "\n",
       "            Parch        Fare  \n",
       "count  891.000000  891.000000  \n",
       "mean     0.381594   32.204208  \n",
       "std      0.806057   49.693429  \n",
       "min      0.000000    0.000000  \n",
       "25%      0.000000    7.910400  \n",
       "50%      0.000000   14.454200  \n",
       "75%      0.000000   31.000000  \n",
       "max      6.000000  512.329200  "
      ]
     },
     "execution_count": 4,
     "metadata": {},
     "output_type": "execute_result"
    }
   ],
   "source": [
    "df.describe()"
   ]
  },
  {
   "cell_type": "code",
   "execution_count": 3,
   "id": "2ca840a2",
   "metadata": {},
   "outputs": [
    {
     "name": "stdout",
     "output_type": "stream",
     "text": [
      "<class 'pandas.core.frame.DataFrame'>\n",
      "RangeIndex: 891 entries, 0 to 890\n",
      "Data columns (total 12 columns):\n",
      " #   Column       Non-Null Count  Dtype  \n",
      "---  ------       --------------  -----  \n",
      " 0   PassengerId  891 non-null    int64  \n",
      " 1   Survived     891 non-null    int64  \n",
      " 2   Pclass       891 non-null    int64  \n",
      " 3   Name         891 non-null    object \n",
      " 4   Sex          891 non-null    object \n",
      " 5   Age          714 non-null    float64\n",
      " 6   SibSp        891 non-null    int64  \n",
      " 7   Parch        891 non-null    int64  \n",
      " 8   Ticket       891 non-null    object \n",
      " 9   Fare         891 non-null    float64\n",
      " 10  Cabin        204 non-null    object \n",
      " 11  Embarked     889 non-null    object \n",
      "dtypes: float64(2), int64(5), object(5)\n",
      "memory usage: 83.7+ KB\n"
     ]
    }
   ],
   "source": [
    "df.info()"
   ]
  },
  {
   "cell_type": "code",
   "execution_count": 11,
   "id": "e9c2f171",
   "metadata": {},
   "outputs": [
    {
     "data": {
      "text/plain": [
       "PassengerId     0.000000\n",
       "Survived        0.000000\n",
       "Pclass          0.000000\n",
       "Name            0.000000\n",
       "Sex             0.000000\n",
       "Age            19.865320\n",
       "SibSp           0.000000\n",
       "Parch           0.000000\n",
       "Ticket          0.000000\n",
       "Fare            0.000000\n",
       "Cabin          77.104377\n",
       "Embarked        0.224467\n",
       "dtype: float64"
      ]
     },
     "execution_count": 11,
     "metadata": {},
     "output_type": "execute_result"
    }
   ],
   "source": [
    "# checking for missing values percentage\n",
    "df.isnull().sum()/df.shape[0]*100"
   ]
  },
  {
   "cell_type": "code",
   "execution_count": 18,
   "id": "0e26ce65",
   "metadata": {},
   "outputs": [],
   "source": [
    "# Treating the missing values\n",
    "df['Age'].fillna(df['Age'].mean(),inplace=True)"
   ]
  },
  {
   "cell_type": "code",
   "execution_count": 19,
   "id": "5e487637",
   "metadata": {},
   "outputs": [],
   "source": [
    "# as Cabin column has 77 percent missing data so i am dropping this columns \n",
    "df.drop(columns=['Cabin'],axis=1,inplace=True)"
   ]
  },
  {
   "cell_type": "code",
   "execution_count": 34,
   "id": "f7ab1415",
   "metadata": {},
   "outputs": [],
   "source": [
    "# Embarked column has only 0.2 % missing values so we can fill with mode here\n",
    "df['Embarked'].fillna(df.Embarked.mode()[0],inplace=True)"
   ]
  },
  {
   "cell_type": "code",
   "execution_count": 36,
   "id": "7a3e93cd",
   "metadata": {},
   "outputs": [
    {
     "data": {
      "text/plain": [
       "PassengerId    0\n",
       "Survived       0\n",
       "Pclass         0\n",
       "Name           0\n",
       "Sex            0\n",
       "Age            0\n",
       "SibSp          0\n",
       "Parch          0\n",
       "Ticket         0\n",
       "Fare           0\n",
       "Embarked       0\n",
       "dtype: int64"
      ]
     },
     "execution_count": 36,
     "metadata": {},
     "output_type": "execute_result"
    }
   ],
   "source": [
    "df.isnull().sum()"
   ]
  },
  {
   "cell_type": "code",
   "execution_count": 50,
   "id": "f993d066",
   "metadata": {},
   "outputs": [],
   "source": [
    "# dropping unnecessary columns\n",
    "new_df = df.drop(columns=['PassengerId','Name','Ticket'],axis=1)"
   ]
  },
  {
   "cell_type": "code",
   "execution_count": 51,
   "id": "a3229f0a",
   "metadata": {},
   "outputs": [
    {
     "data": {
      "text/html": [
       "<div>\n",
       "<style scoped>\n",
       "    .dataframe tbody tr th:only-of-type {\n",
       "        vertical-align: middle;\n",
       "    }\n",
       "\n",
       "    .dataframe tbody tr th {\n",
       "        vertical-align: top;\n",
       "    }\n",
       "\n",
       "    .dataframe thead th {\n",
       "        text-align: right;\n",
       "    }\n",
       "</style>\n",
       "<table border=\"1\" class=\"dataframe\">\n",
       "  <thead>\n",
       "    <tr style=\"text-align: right;\">\n",
       "      <th></th>\n",
       "      <th>Survived</th>\n",
       "      <th>Pclass</th>\n",
       "      <th>Sex</th>\n",
       "      <th>Age</th>\n",
       "      <th>SibSp</th>\n",
       "      <th>Parch</th>\n",
       "      <th>Fare</th>\n",
       "      <th>Embarked</th>\n",
       "    </tr>\n",
       "  </thead>\n",
       "  <tbody>\n",
       "    <tr>\n",
       "      <th>0</th>\n",
       "      <td>0</td>\n",
       "      <td>3</td>\n",
       "      <td>male</td>\n",
       "      <td>22.0</td>\n",
       "      <td>1</td>\n",
       "      <td>0</td>\n",
       "      <td>7.2500</td>\n",
       "      <td>S</td>\n",
       "    </tr>\n",
       "    <tr>\n",
       "      <th>1</th>\n",
       "      <td>1</td>\n",
       "      <td>1</td>\n",
       "      <td>female</td>\n",
       "      <td>38.0</td>\n",
       "      <td>1</td>\n",
       "      <td>0</td>\n",
       "      <td>71.2833</td>\n",
       "      <td>C</td>\n",
       "    </tr>\n",
       "    <tr>\n",
       "      <th>2</th>\n",
       "      <td>1</td>\n",
       "      <td>3</td>\n",
       "      <td>female</td>\n",
       "      <td>26.0</td>\n",
       "      <td>0</td>\n",
       "      <td>0</td>\n",
       "      <td>7.9250</td>\n",
       "      <td>S</td>\n",
       "    </tr>\n",
       "    <tr>\n",
       "      <th>3</th>\n",
       "      <td>1</td>\n",
       "      <td>1</td>\n",
       "      <td>female</td>\n",
       "      <td>35.0</td>\n",
       "      <td>1</td>\n",
       "      <td>0</td>\n",
       "      <td>53.1000</td>\n",
       "      <td>S</td>\n",
       "    </tr>\n",
       "    <tr>\n",
       "      <th>4</th>\n",
       "      <td>0</td>\n",
       "      <td>3</td>\n",
       "      <td>male</td>\n",
       "      <td>35.0</td>\n",
       "      <td>0</td>\n",
       "      <td>0</td>\n",
       "      <td>8.0500</td>\n",
       "      <td>S</td>\n",
       "    </tr>\n",
       "  </tbody>\n",
       "</table>\n",
       "</div>"
      ],
      "text/plain": [
       "   Survived  Pclass     Sex   Age  SibSp  Parch     Fare Embarked\n",
       "0         0       3    male  22.0      1      0   7.2500        S\n",
       "1         1       1  female  38.0      1      0  71.2833        C\n",
       "2         1       3  female  26.0      0      0   7.9250        S\n",
       "3         1       1  female  35.0      1      0  53.1000        S\n",
       "4         0       3    male  35.0      0      0   8.0500        S"
      ]
     },
     "execution_count": 51,
     "metadata": {},
     "output_type": "execute_result"
    }
   ],
   "source": [
    "new_df.head()"
   ]
  },
  {
   "cell_type": "code",
   "execution_count": 37,
   "id": "20764d76",
   "metadata": {},
   "outputs": [],
   "source": [
    "# checking number of numeric columns and categorical columns"
   ]
  },
  {
   "cell_type": "code",
   "execution_count": 52,
   "id": "fbd58d6e",
   "metadata": {},
   "outputs": [],
   "source": [
    "num_cols = new_df.select_dtypes(include=np.number)\n",
    "cat_cols = new_df.select_dtypes(exclude=np.number)"
   ]
  },
  {
   "cell_type": "code",
   "execution_count": 53,
   "id": "ba6399c9",
   "metadata": {},
   "outputs": [
    {
     "data": {
      "text/plain": [
       "Index(['Survived', 'Pclass', 'Age', 'SibSp', 'Parch', 'Fare'], dtype='object')"
      ]
     },
     "execution_count": 53,
     "metadata": {},
     "output_type": "execute_result"
    }
   ],
   "source": [
    "num_cols.columns"
   ]
  },
  {
   "cell_type": "code",
   "execution_count": 54,
   "id": "2e0d10f0",
   "metadata": {},
   "outputs": [
    {
     "data": {
      "text/plain": [
       "Index(['Sex', 'Embarked'], dtype='object')"
      ]
     },
     "execution_count": 54,
     "metadata": {},
     "output_type": "execute_result"
    }
   ],
   "source": [
    "cat_cols.columns"
   ]
  },
  {
   "cell_type": "markdown",
   "id": "8b287e3a",
   "metadata": {},
   "source": [
    "# Visualising all the columns "
   ]
  },
  {
   "cell_type": "code",
   "execution_count": 60,
   "id": "0a155f08",
   "metadata": {},
   "outputs": [
    {
     "data": {
      "image/png": "[encoded data removed]",
      "text/plain": [
       "<Figure size 640x480 with 1 Axes>"
      ]
     },
     "metadata": {},
     "output_type": "display_data"
    }
   ],
   "source": [
    "# cheking target column distribution\n",
    "df.Survived.value_counts(normalize=True).plot(kind='bar')\n",
    "plt.show()"
   ]
  },
  {
   "cell_type": "code",
   "execution_count": 62,
   "id": "7da81861",
   "metadata": {},
   "outputs": [
    {
     "data": {
      "image/png": "[encoded data removed]",
      "text/plain": [
       "<Figure size 640x480 with 1 Axes>"
      ]
     },
     "metadata": {},
     "output_type": "display_data"
    }
   ],
   "source": [
    "df.Pclass.value_counts(normalize=True).plot(kind='pie',autopct='%.2f%%')\n",
    "plt.show()"
   ]
  },
  {
   "cell_type": "code",
   "execution_count": 65,
   "id": "886aee6d",
   "metadata": {},
   "outputs": [
    {
     "data": {
      "image/png": "[encoded data removed]",
      "text/plain": [
       "<Figure size 640x480 with 1 Axes>"
      ]
     },
     "metadata": {},
     "output_type": "display_data"
    }
   ],
   "source": [
    "# Sex Columns\n",
    "sns.countplot(x=df.Sex)\n",
    "plt.show()"
   ]
  },
  {
   "cell_type": "code",
   "execution_count": 69,
   "id": "46ff55e4",
   "metadata": {},
   "outputs": [
    {
     "data": {
      "text/plain": [
       "<function matplotlib.pyplot.show(close=None, block=None)>"
      ]
     },
     "execution_count": 69,
     "metadata": {},
     "output_type": "execute_result"
    },
    {
     "data": {
      "image/png": "[encoded data removed]",
      "text/plain": [
       "<Figure size 640x480 with 1 Axes>"
      ]
     },
     "metadata": {},
     "output_type": "display_data"
    }
   ],
   "source": [
    "#Age column\n",
    "sns.scatterplot(df.Age)\n",
    "plt.show"
   ]
  },
  {
   "cell_type": "code",
   "execution_count": 71,
   "id": "ae6fccc5",
   "metadata": {},
   "outputs": [
    {
     "data": {
      "image/png": "[encoded data removed]",
      "text/plain": [
       "<Figure size 640x480 with 1 Axes>"
      ]
     },
     "metadata": {},
     "output_type": "display_data"
    }
   ],
   "source": [
    "#Sibsp\n",
    "df.SibSp.value_counts(normalize=True).plot(kind='bar')\n",
    "plt.show()"
   ]
  },
  {
   "cell_type": "code",
   "execution_count": 70,
   "id": "30e749ac",
   "metadata": {},
   "outputs": [
    {
     "data": {
      "image/png": "[encoded data removed]",
      "text/plain": [
       "<Figure size 640x480 with 1 Axes>"
      ]
     },
     "metadata": {},
     "output_type": "display_data"
    }
   ],
   "source": [
    "#parch\n",
    "df.Parch.value_counts(normalize=True).plot(kind='bar')\n",
    "plt.show()"
   ]
  },
  {
   "cell_type": "code",
   "execution_count": 73,
   "id": "e3034171",
   "metadata": {},
   "outputs": [
    {
     "data": {
      "image/png": "[encoded data removed]",
      "text/plain": [
       "<Figure size 640x480 with 1 Axes>"
      ]
     },
     "metadata": {},
     "output_type": "display_data"
    }
   ],
   "source": [
    "# cheking fare with target column\n",
    "plt.scatter(df.Fare,df.Survived)\n",
    "plt.show()"
   ]
  },
  {
   "cell_type": "code",
   "execution_count": 78,
   "id": "7d7a6f05",
   "metadata": {},
   "outputs": [
    {
     "data": {
      "image/png": "[encoded data removed]",
      "text/plain": [
       "<Figure size 640x480 with 1 Axes>"
      ]
     },
     "metadata": {},
     "output_type": "display_data"
    }
   ],
   "source": [
    "#Embarked\n",
    "sns.countplot(data=df,x='Embarked')\n",
    "plt.show()"
   ]
  },
  {
   "cell_type": "code",
   "execution_count": 79,
   "id": "d7b18813",
   "metadata": {},
   "outputs": [
    {
     "data": {
      "image/png": "[encoded data removed]",
      "text/plain": [
       "<Figure size 640x480 with 2 Axes>"
      ]
     },
     "metadata": {},
     "output_type": "display_data"
    }
   ],
   "source": [
    "# all the numcols together\n",
    "sns.heatmap(num_cols.corr(),annot=True)\n",
    "plt.show()"
   ]
  },
  {
   "cell_type": "code",
   "execution_count": 81,
   "id": "b98304aa",
   "metadata": {},
   "outputs": [
    {
     "data": {
      "image/png": "[encoded data removed]",
      "text/plain": [
       "<Figure size 1200x1200 with 6 Axes>"
      ]
     },
     "metadata": {},
     "output_type": "display_data"
    }
   ],
   "source": [
    "# Checking for outliers\n",
    "plt.figure(figsize=(12,12))\n",
    "t=1\n",
    "for i in num_cols:\n",
    "    plt.subplot(2,3,t)\n",
    "    plt.boxplot(new_df[i])\n",
    "    plt.title(i)\n",
    "    t+=1\n",
    "plt.tight_layout()\n",
    "plt.show()"
   ]
  },
  {
   "cell_type": "code",
   "execution_count": 82,
   "id": "1af1d97e",
   "metadata": {},
   "outputs": [],
   "source": [
    "# As age and Fare can have outliers and removing them cam cause negative effect on prediction so not removing them."
   ]
  },
  {
   "cell_type": "code",
   "execution_count": 83,
   "id": "77d47565",
   "metadata": {},
   "outputs": [
    {
     "data": {
      "text/html": [
       "<div>\n",
       "<style scoped>\n",
       "    .dataframe tbody tr th:only-of-type {\n",
       "        vertical-align: middle;\n",
       "    }\n",
       "\n",
       "    .dataframe tbody tr th {\n",
       "        vertical-align: top;\n",
       "    }\n",
       "\n",
       "    .dataframe thead th {\n",
       "        text-align: right;\n",
       "    }\n",
       "</style>\n",
       "<table border=\"1\" class=\"dataframe\">\n",
       "  <thead>\n",
       "    <tr style=\"text-align: right;\">\n",
       "      <th></th>\n",
       "      <th>Sex</th>\n",
       "      <th>Embarked</th>\n",
       "    </tr>\n",
       "  </thead>\n",
       "  <tbody>\n",
       "    <tr>\n",
       "      <th>0</th>\n",
       "      <td>male</td>\n",
       "      <td>S</td>\n",
       "    </tr>\n",
       "    <tr>\n",
       "      <th>1</th>\n",
       "      <td>female</td>\n",
       "      <td>C</td>\n",
       "    </tr>\n",
       "    <tr>\n",
       "      <th>2</th>\n",
       "      <td>female</td>\n",
       "      <td>S</td>\n",
       "    </tr>\n",
       "    <tr>\n",
       "      <th>3</th>\n",
       "      <td>female</td>\n",
       "      <td>S</td>\n",
       "    </tr>\n",
       "    <tr>\n",
       "      <th>4</th>\n",
       "      <td>male</td>\n",
       "      <td>S</td>\n",
       "    </tr>\n",
       "    <tr>\n",
       "      <th>...</th>\n",
       "      <td>...</td>\n",
       "      <td>...</td>\n",
       "    </tr>\n",
       "    <tr>\n",
       "      <th>886</th>\n",
       "      <td>male</td>\n",
       "      <td>S</td>\n",
       "    </tr>\n",
       "    <tr>\n",
       "      <th>887</th>\n",
       "      <td>female</td>\n",
       "      <td>S</td>\n",
       "    </tr>\n",
       "    <tr>\n",
       "      <th>888</th>\n",
       "      <td>female</td>\n",
       "      <td>S</td>\n",
       "    </tr>\n",
       "    <tr>\n",
       "      <th>889</th>\n",
       "      <td>male</td>\n",
       "      <td>C</td>\n",
       "    </tr>\n",
       "    <tr>\n",
       "      <th>890</th>\n",
       "      <td>male</td>\n",
       "      <td>Q</td>\n",
       "    </tr>\n",
       "  </tbody>\n",
       "</table>\n",
       "<p>891 rows × 2 columns</p>\n",
       "</div>"
      ],
      "text/plain": [
       "        Sex Embarked\n",
       "0      male        S\n",
       "1    female        C\n",
       "2    female        S\n",
       "3    female        S\n",
       "4      male        S\n",
       "..      ...      ...\n",
       "886    male        S\n",
       "887  female        S\n",
       "888  female        S\n",
       "889    male        C\n",
       "890    male        Q\n",
       "\n",
       "[891 rows x 2 columns]"
      ]
     },
     "execution_count": 83,
     "metadata": {},
     "output_type": "execute_result"
    }
   ],
   "source": [
    "# Encoding categorical columns\n",
    "cat_cols"
   ]
  },
  {
   "cell_type": "code",
   "execution_count": 86,
   "id": "c1e54cfe",
   "metadata": {},
   "outputs": [
    {
     "data": {
      "text/html": [
       "<div>\n",
       "<style scoped>\n",
       "    .dataframe tbody tr th:only-of-type {\n",
       "        vertical-align: middle;\n",
       "    }\n",
       "\n",
       "    .dataframe tbody tr th {\n",
       "        vertical-align: top;\n",
       "    }\n",
       "\n",
       "    .dataframe thead th {\n",
       "        text-align: right;\n",
       "    }\n",
       "</style>\n",
       "<table border=\"1\" class=\"dataframe\">\n",
       "  <thead>\n",
       "    <tr style=\"text-align: right;\">\n",
       "      <th></th>\n",
       "      <th>Survived</th>\n",
       "      <th>Pclass</th>\n",
       "      <th>Age</th>\n",
       "      <th>SibSp</th>\n",
       "      <th>Parch</th>\n",
       "      <th>Fare</th>\n",
       "      <th>Sex_male</th>\n",
       "      <th>Embarked_Q</th>\n",
       "      <th>Embarked_S</th>\n",
       "    </tr>\n",
       "  </thead>\n",
       "  <tbody>\n",
       "    <tr>\n",
       "      <th>0</th>\n",
       "      <td>0</td>\n",
       "      <td>3</td>\n",
       "      <td>22.0</td>\n",
       "      <td>1</td>\n",
       "      <td>0</td>\n",
       "      <td>7.2500</td>\n",
       "      <td>1</td>\n",
       "      <td>0</td>\n",
       "      <td>1</td>\n",
       "    </tr>\n",
       "    <tr>\n",
       "      <th>1</th>\n",
       "      <td>1</td>\n",
       "      <td>1</td>\n",
       "      <td>38.0</td>\n",
       "      <td>1</td>\n",
       "      <td>0</td>\n",
       "      <td>71.2833</td>\n",
       "      <td>0</td>\n",
       "      <td>0</td>\n",
       "      <td>0</td>\n",
       "    </tr>\n",
       "  </tbody>\n",
       "</table>\n",
       "</div>"
      ],
      "text/plain": [
       "   Survived  Pclass   Age  SibSp  Parch     Fare  Sex_male  Embarked_Q  \\\n",
       "0         0       3  22.0      1      0   7.2500         1           0   \n",
       "1         1       1  38.0      1      0  71.2833         0           0   \n",
       "\n",
       "   Embarked_S  \n",
       "0           1  \n",
       "1           0  "
      ]
     },
     "execution_count": 86,
     "metadata": {},
     "output_type": "execute_result"
    }
   ],
   "source": [
    "final_df = pd.get_dummies(new_df,drop_first=True)\n",
    "final_df.head(2)"
   ]
  },
  {
   "cell_type": "code",
   "execution_count": 89,
   "id": "5a06b860",
   "metadata": {},
   "outputs": [],
   "source": [
    "x = final_df.drop(columns=['Survived'])\n",
    "y=final_df.Survived"
   ]
  },
  {
   "cell_type": "code",
   "execution_count": 101,
   "id": "f4a64529",
   "metadata": {},
   "outputs": [],
   "source": [
    "from sklearn.model_selection import train_test_split\n",
    "from sklearn.linear_model import LogisticRegression\n",
    "import warnings\n",
    "warnings.filterwarnings('ignore')\n",
    "from sklearn.metrics import classification_report,f1_score"
   ]
  },
  {
   "cell_type": "code",
   "execution_count": 92,
   "id": "b759b660",
   "metadata": {},
   "outputs": [],
   "source": [
    "xtrain,xtest,ytrain,ytest = train_test_split(x,y,test_size=0.2)"
   ]
  },
  {
   "cell_type": "code",
   "execution_count": 97,
   "id": "6a49579d",
   "metadata": {},
   "outputs": [
    {
     "data": {
      "text/html": [
       "<style>#sk-container-id-2 {color: black;}#sk-container-id-2 pre{padding: 0;}#sk-container-id-2 div.sk-toggleable {background-color: white;}#sk-container-id-2 label.sk-toggleable__label {cursor: pointer;display: block;width: 100%;margin-bottom: 0;padding: 0.3em;box-sizing: border-box;text-align: center;}#sk-container-id-2 label.sk-toggleable__label-arrow:before {content: \"▸\";float: left;margin-right: 0.25em;color: #696969;}#sk-container-id-2 label.sk-toggleable__label-arrow:hover:before {color: black;}#sk-container-id-2 div.sk-estimator:hover label.sk-toggleable__label-arrow:before {color: black;}#sk-container-id-2 div.sk-toggleable__content {max-height: 0;max-width: 0;overflow: hidden;text-align: left;background-color: #f0f8ff;}#sk-container-id-2 div.sk-toggleable__content pre {margin: 0.2em;color: black;border-radius: 0.25em;background-color: #f0f8ff;}#sk-container-id-2 input.sk-toggleable__control:checked~div.sk-toggleable__content {max-height: 200px;max-width: 100%;overflow: auto;}#sk-container-id-2 input.sk-toggleable__control:checked~label.sk-toggleable__label-arrow:before {content: \"▾\";}#sk-container-id-2 div.sk-estimator input.sk-toggleable__control:checked~label.sk-toggleable__label {background-color: #d4ebff;}#sk-container-id-2 div.sk-label input.sk-toggleable__control:checked~label.sk-toggleable__label {background-color: #d4ebff;}#sk-container-id-2 input.sk-hidden--visually {border: 0;clip: rect(1px 1px 1px 1px);clip: rect(1px, 1px, 1px, 1px);height: 1px;margin: -1px;overflow: hidden;padding: 0;position: absolute;width: 1px;}#sk-container-id-2 div.sk-estimator {font-family: monospace;background-color: #f0f8ff;border: 1px dotted black;border-radius: 0.25em;box-sizing: border-box;margin-bottom: 0.5em;}#sk-container-id-2 div.sk-estimator:hover {background-color: #d4ebff;}#sk-container-id-2 div.sk-parallel-item::after {content: \"\";width: 100%;border-bottom: 1px solid gray;flex-grow: 1;}#sk-container-id-2 div.sk-label:hover label.sk-toggleable__label {background-color: #d4ebff;}#sk-container-id-2 div.sk-serial::before {content: \"\";position: absolute;border-left: 1px solid gray;box-sizing: border-box;top: 0;bottom: 0;left: 50%;z-index: 0;}#sk-container-id-2 div.sk-serial {display: flex;flex-direction: column;align-items: center;background-color: white;padding-right: 0.2em;padding-left: 0.2em;position: relative;}#sk-container-id-2 div.sk-item {position: relative;z-index: 1;}#sk-container-id-2 div.sk-parallel {display: flex;align-items: stretch;justify-content: center;background-color: white;position: relative;}#sk-container-id-2 div.sk-item::before, #sk-container-id-2 div.sk-parallel-item::before {content: \"\";position: absolute;border-left: 1px solid gray;box-sizing: border-box;top: 0;bottom: 0;left: 50%;z-index: -1;}#sk-container-id-2 div.sk-parallel-item {display: flex;flex-direction: column;z-index: 1;position: relative;background-color: white;}#sk-container-id-2 div.sk-parallel-item:first-child::after {align-self: flex-end;width: 50%;}#sk-container-id-2 div.sk-parallel-item:last-child::after {align-self: flex-start;width: 50%;}#sk-container-id-2 div.sk-parallel-item:only-child::after {width: 0;}#sk-container-id-2 div.sk-dashed-wrapped {border: 1px dashed gray;margin: 0 0.4em 0.5em 0.4em;box-sizing: border-box;padding-bottom: 0.4em;background-color: white;}#sk-container-id-2 div.sk-label label {font-family: monospace;font-weight: bold;display: inline-block;line-height: 1.2em;}#sk-container-id-2 div.sk-label-container {text-align: center;}#sk-container-id-2 div.sk-container {/* jupyter's `normalize.less` sets `[hidden] { display: none; }` but bootstrap.min.css set `[hidden] { display: none !important; }` so we also need the `!important` here to be able to override the default hidden behavior on the sphinx rendered scikit-learn.org. See: https://github.com/scikit-learn/scikit-learn/issues/21755 */display: inline-block !important;position: relative;}#sk-container-id-2 div.sk-text-repr-fallback {display: none;}</style><div id=\"sk-container-id-2\" class=\"sk-top-container\"><div class=\"sk-text-repr-fallback\"><pre>LogisticRegression()</pre><b>In a Jupyter environment, please rerun this cell to show the HTML representation or trust the notebook. <br />On GitHub, the HTML representation is unable to render, please try loading this page with nbviewer.org.</b></div><div class=\"sk-container\" hidden><div class=\"sk-item\"><div class=\"sk-estimator sk-toggleable\"><input class=\"sk-toggleable__control sk-hidden--visually\" id=\"sk-estimator-id-2\" type=\"checkbox\" checked><label for=\"sk-estimator-id-2\" class=\"sk-toggleable__label sk-toggleable__label-arrow\">LogisticRegression</label><div class=\"sk-toggleable__content\"><pre>LogisticRegression()</pre></div></div></div></div></div>"
      ],
      "text/plain": [
       "LogisticRegression()"
      ]
     },
     "execution_count": 97,
     "metadata": {},
     "output_type": "execute_result"
    }
   ],
   "source": [
    "logreg = LogisticRegression()\n",
    "logreg.fit(xtrain,ytrain)"
   ]
  },
  {
   "cell_type": "code",
   "execution_count": 98,
   "id": "9c99f558",
   "metadata": {},
   "outputs": [],
   "source": [
    "pred = logreg.predict(xtest)"
   ]
  },
  {
   "cell_type": "code",
   "execution_count": 103,
   "id": "8cc10a02",
   "metadata": {},
   "outputs": [
    {
     "name": "stdout",
     "output_type": "stream",
     "text": [
      "              precision    recall  f1-score   support\n",
      "\n",
      "           0       0.79      0.80      0.80       106\n",
      "           1       0.71      0.70      0.70        73\n",
      "\n",
      "    accuracy                           0.76       179\n",
      "   macro avg       0.75      0.75      0.75       179\n",
      "weighted avg       0.76      0.76      0.76       179\n",
      "\n",
      "F1 score of the model is : 0.703448275862069\n"
     ]
    }
   ],
   "source": [
    "print(classification_report(ytest,pred))\n",
    "print('F1 score of the model is :',f1_score(ytest,pred))"
   ]
  },
  {
   "cell_type": "markdown",
   "id": "ca3576cf",
   "metadata": {},
   "source": [
    "# using other powerful model"
   ]
  },
  {
   "cell_type": "code",
   "execution_count": 111,
   "id": "0003abe8",
   "metadata": {},
   "outputs": [],
   "source": [
    "from sklearn.tree import DecisionTreeClassifier\n",
    "from sklearn.ensemble import RandomForestClassifier,AdaBoostClassifier,GradientBoostingClassifier\n",
    "from xgboost import XGBClassifier\n",
    "from sklearn.model_selection import GridSearchCV"
   ]
  },
  {
   "cell_type": "code",
   "execution_count": 105,
   "id": "22925692",
   "metadata": {},
   "outputs": [],
   "source": [
    "def model(model,xtrain,xtest,ytrain,ytest):\n",
    "    m = model()\n",
    "    pred = m.fit(xtrain,ytrain).predict(xtest)\n",
    "    print(classification_report(ytest,pred))\n",
    "    print('F1 score of the model is ;',f1_score(ytest,pred))\n",
    "    "
   ]
  },
  {
   "cell_type": "code",
   "execution_count": 106,
   "id": "de360b4a",
   "metadata": {},
   "outputs": [
    {
     "name": "stdout",
     "output_type": "stream",
     "text": [
      "              precision    recall  f1-score   support\n",
      "\n",
      "           0       0.78      0.85      0.81       106\n",
      "           1       0.75      0.66      0.70        73\n",
      "\n",
      "    accuracy                           0.77       179\n",
      "   macro avg       0.77      0.75      0.76       179\n",
      "weighted avg       0.77      0.77      0.77       179\n",
      "\n",
      "F1 score of the model is ; 0.7007299270072993\n"
     ]
    }
   ],
   "source": [
    "# Descsion Tree\n",
    "model(DecisionTreeClassifier,xtrain,xtest,ytrain,ytest)"
   ]
  },
  {
   "cell_type": "code",
   "execution_count": 107,
   "id": "2dd96541",
   "metadata": {},
   "outputs": [
    {
     "name": "stdout",
     "output_type": "stream",
     "text": [
      "              precision    recall  f1-score   support\n",
      "\n",
      "           0       0.79      0.88      0.83       106\n",
      "           1       0.79      0.67      0.73        73\n",
      "\n",
      "    accuracy                           0.79       179\n",
      "   macro avg       0.79      0.77      0.78       179\n",
      "weighted avg       0.79      0.79      0.79       179\n",
      "\n",
      "F1 score of the model is ; 0.725925925925926\n"
     ]
    }
   ],
   "source": [
    "# Random Forest\n",
    "model(RandomForestClassifier,xtrain,xtest,ytrain,ytest)"
   ]
  },
  {
   "cell_type": "code",
   "execution_count": 108,
   "id": "d990a07a",
   "metadata": {},
   "outputs": [
    {
     "name": "stdout",
     "output_type": "stream",
     "text": [
      "              precision    recall  f1-score   support\n",
      "\n",
      "           0       0.85      0.85      0.85       106\n",
      "           1       0.78      0.78      0.78        73\n",
      "\n",
      "    accuracy                           0.82       179\n",
      "   macro avg       0.81      0.81      0.81       179\n",
      "weighted avg       0.82      0.82      0.82       179\n",
      "\n",
      "F1 score of the model is ; 0.7808219178082192\n"
     ]
    }
   ],
   "source": [
    "# Adaboost\n",
    "model(AdaBoostClassifier,xtrain,xtest,ytrain,ytest)"
   ]
  },
  {
   "cell_type": "code",
   "execution_count": 109,
   "id": "388fea31",
   "metadata": {},
   "outputs": [
    {
     "name": "stdout",
     "output_type": "stream",
     "text": [
      "              precision    recall  f1-score   support\n",
      "\n",
      "           0       0.81      0.91      0.85       106\n",
      "           1       0.83      0.68      0.75        73\n",
      "\n",
      "    accuracy                           0.82       179\n",
      "   macro avg       0.82      0.80      0.80       179\n",
      "weighted avg       0.82      0.82      0.81       179\n",
      "\n",
      "F1 score of the model is ; 0.7518796992481204\n"
     ]
    }
   ],
   "source": [
    "# gradient boosting \n",
    "model(GradientBoostingClassifier,xtrain,xtest,ytrain,ytest)"
   ]
  },
  {
   "cell_type": "code",
   "execution_count": 110,
   "id": "a1a55e9c",
   "metadata": {},
   "outputs": [
    {
     "name": "stdout",
     "output_type": "stream",
     "text": [
      "              precision    recall  f1-score   support\n",
      "\n",
      "           0       0.80      0.88      0.84       106\n",
      "           1       0.79      0.68      0.74        73\n",
      "\n",
      "    accuracy                           0.80       179\n",
      "   macro avg       0.80      0.78      0.79       179\n",
      "weighted avg       0.80      0.80      0.80       179\n",
      "\n",
      "F1 score of the model is ; 0.7352941176470589\n"
     ]
    }
   ],
   "source": [
    "# Xtream gradient boosting \n",
    "model(XGBClassifier,xtrain,xtest,ytrain,ytest)"
   ]
  },
  {
   "cell_type": "code",
   "execution_count": null,
   "id": "cd0b2fab",
   "metadata": {},
   "outputs": [],
   "source": [
    "# here taking Adaboost as my final model and doing hyperparamet tuning\n"
   ]
  },
  {
   "cell_type": "code",
   "execution_count": 113,
   "id": "7fa7fde0",
   "metadata": {},
   "outputs": [],
   "source": [
    "params = {'n_estimators':[i for i in range(50,200,10)],'learning_rate':[0.1,0.2,0.5,0.7,0.9,1.0]}\n",
    "gscv = GridSearchCV(estimator=AdaBoostClassifier(),param_grid=params,cv=3,verbose=2,scoring='f1')"
   ]
  },
  {
   "cell_type": "code",
   "execution_count": 114,
   "id": "6202d912",
   "metadata": {},
   "outputs": [
    {
     "name": "stdout",
     "output_type": "stream",
     "text": [
      "Fitting 3 folds for each of 90 candidates, totalling 270 fits\n",
      "[CV] END .................learning_rate=0.1, n_estimators=50; total time=   0.0s\n",
      "[CV] END .................learning_rate=0.1, n_estimators=50; total time=   0.1s\n",
      "[CV] END .................learning_rate=0.1, n_estimators=50; total time=   0.0s\n",
      "[CV] END .................learning_rate=0.1, n_estimators=60; total time=   0.1s\n",
      "[CV] END .................learning_rate=0.1, n_estimators=60; total time=   0.1s\n",
      "[CV] END .................learning_rate=0.1, n_estimators=60; total time=   0.1s\n",
      "[CV] END .................learning_rate=0.1, n_estimators=70; total time=   0.2s\n",
      "[CV] END .................learning_rate=0.1, n_estimators=70; total time=   0.1s\n",
      "[CV] END .................learning_rate=0.1, n_estimators=70; total time=   0.1s\n",
      "[CV] END .................learning_rate=0.1, n_estimators=80; total time=   0.1s\n",
      "[CV] END .................learning_rate=0.1, n_estimators=80; total time=   0.1s\n",
      "[CV] END .................learning_rate=0.1, n_estimators=80; total time=   0.2s\n",
      "[CV] END .................learning_rate=0.1, n_estimators=90; total time=   0.2s\n",
      "[CV] END .................learning_rate=0.1, n_estimators=90; total time=   0.2s\n",
      "[CV] END .................learning_rate=0.1, n_estimators=90; total time=   0.1s\n",
      "[CV] END ................learning_rate=0.1, n_estimators=100; total time=   0.2s\n",
      "[CV] END ................learning_rate=0.1, n_estimators=100; total time=   0.2s\n",
      "[CV] END ................learning_rate=0.1, n_estimators=100; total time=   0.2s\n",
      "[CV] END ................learning_rate=0.1, n_estimators=110; total time=   0.2s\n",
      "[CV] END ................learning_rate=0.1, n_estimators=110; total time=   0.2s\n",
      "[CV] END ................learning_rate=0.1, n_estimators=110; total time=   0.2s\n",
      "[CV] END ................learning_rate=0.1, n_estimators=120; total time=   0.2s\n",
      "[CV] END ................learning_rate=0.1, n_estimators=120; total time=   0.2s\n",
      "[CV] END ................learning_rate=0.1, n_estimators=120; total time=   0.2s\n",
      "[CV] END ................learning_rate=0.1, n_estimators=130; total time=   0.3s\n",
      "[CV] END ................learning_rate=0.1, n_estimators=130; total time=   0.3s\n",
      "[CV] END ................learning_rate=0.1, n_estimators=130; total time=   0.3s\n",
      "[CV] END ................learning_rate=0.1, n_estimators=140; total time=   0.3s\n",
      "[CV] END ................learning_rate=0.1, n_estimators=140; total time=   0.3s\n",
      "[CV] END ................learning_rate=0.1, n_estimators=140; total time=   0.3s\n",
      "[CV] END ................learning_rate=0.1, n_estimators=150; total time=   0.3s\n",
      "[CV] END ................learning_rate=0.1, n_estimators=150; total time=   0.3s\n",
      "[CV] END ................learning_rate=0.1, n_estimators=150; total time=   0.3s\n",
      "[CV] END ................learning_rate=0.1, n_estimators=160; total time=   0.3s\n",
      "[CV] END ................learning_rate=0.1, n_estimators=160; total time=   0.3s\n",
      "[CV] END ................learning_rate=0.1, n_estimators=160; total time=   0.3s\n",
      "[CV] END ................learning_rate=0.1, n_estimators=170; total time=   0.3s\n",
      "[CV] END ................learning_rate=0.1, n_estimators=170; total time=   0.3s\n",
      "[CV] END ................learning_rate=0.1, n_estimators=170; total time=   0.4s\n",
      "[CV] END ................learning_rate=0.1, n_estimators=180; total time=   0.4s\n",
      "[CV] END ................learning_rate=0.1, n_estimators=180; total time=   0.4s\n",
      "[CV] END ................learning_rate=0.1, n_estimators=180; total time=   0.4s\n",
      "[CV] END ................learning_rate=0.1, n_estimators=190; total time=   0.5s\n",
      "[CV] END ................learning_rate=0.1, n_estimators=190; total time=   0.4s\n",
      "[CV] END ................learning_rate=0.1, n_estimators=190; total time=   0.4s\n",
      "[CV] END .................learning_rate=0.2, n_estimators=50; total time=   0.0s\n",
      "[CV] END .................learning_rate=0.2, n_estimators=50; total time=   0.1s\n",
      "[CV] END .................learning_rate=0.2, n_estimators=50; total time=   0.0s\n",
      "[CV] END .................learning_rate=0.2, n_estimators=60; total time=   0.1s\n",
      "[CV] END .................learning_rate=0.2, n_estimators=60; total time=   0.1s\n",
      "[CV] END .................learning_rate=0.2, n_estimators=60; total time=   0.1s\n",
      "[CV] END .................learning_rate=0.2, n_estimators=70; total time=   0.1s\n",
      "[CV] END .................learning_rate=0.2, n_estimators=70; total time=   0.1s\n",
      "[CV] END .................learning_rate=0.2, n_estimators=70; total time=   0.1s\n",
      "[CV] END .................learning_rate=0.2, n_estimators=80; total time=   0.1s\n",
      "[CV] END .................learning_rate=0.2, n_estimators=80; total time=   0.1s\n",
      "[CV] END .................learning_rate=0.2, n_estimators=80; total time=   0.1s\n",
      "[CV] END .................learning_rate=0.2, n_estimators=90; total time=   0.2s\n",
      "[CV] END .................learning_rate=0.2, n_estimators=90; total time=   0.2s\n",
      "[CV] END .................learning_rate=0.2, n_estimators=90; total time=   0.2s\n",
      "[CV] END ................learning_rate=0.2, n_estimators=100; total time=   0.2s\n",
      "[CV] END ................learning_rate=0.2, n_estimators=100; total time=   0.2s\n",
      "[CV] END ................learning_rate=0.2, n_estimators=100; total time=   0.2s\n",
      "[CV] END ................learning_rate=0.2, n_estimators=110; total time=   0.2s\n",
      "[CV] END ................learning_rate=0.2, n_estimators=110; total time=   0.2s\n",
      "[CV] END ................learning_rate=0.2, n_estimators=110; total time=   0.2s\n",
      "[CV] END ................learning_rate=0.2, n_estimators=120; total time=   0.2s\n",
      "[CV] END ................learning_rate=0.2, n_estimators=120; total time=   0.2s\n",
      "[CV] END ................learning_rate=0.2, n_estimators=120; total time=   0.2s\n",
      "[CV] END ................learning_rate=0.2, n_estimators=130; total time=   0.3s\n",
      "[CV] END ................learning_rate=0.2, n_estimators=130; total time=   0.3s\n",
      "[CV] END ................learning_rate=0.2, n_estimators=130; total time=   0.3s\n",
      "[CV] END ................learning_rate=0.2, n_estimators=140; total time=   0.3s\n",
      "[CV] END ................learning_rate=0.2, n_estimators=140; total time=   0.3s\n",
      "[CV] END ................learning_rate=0.2, n_estimators=140; total time=   0.3s\n",
      "[CV] END ................learning_rate=0.2, n_estimators=150; total time=   0.3s\n",
      "[CV] END ................learning_rate=0.2, n_estimators=150; total time=   0.3s\n",
      "[CV] END ................learning_rate=0.2, n_estimators=150; total time=   0.3s\n",
      "[CV] END ................learning_rate=0.2, n_estimators=160; total time=   0.3s\n",
      "[CV] END ................learning_rate=0.2, n_estimators=160; total time=   0.3s\n",
      "[CV] END ................learning_rate=0.2, n_estimators=160; total time=   0.4s\n",
      "[CV] END ................learning_rate=0.2, n_estimators=170; total time=   0.4s\n",
      "[CV] END ................learning_rate=0.2, n_estimators=170; total time=   0.4s\n",
      "[CV] END ................learning_rate=0.2, n_estimators=170; total time=   0.3s\n",
      "[CV] END ................learning_rate=0.2, n_estimators=180; total time=   0.4s\n",
      "[CV] END ................learning_rate=0.2, n_estimators=180; total time=   0.5s\n",
      "[CV] END ................learning_rate=0.2, n_estimators=180; total time=   0.5s\n",
      "[CV] END ................learning_rate=0.2, n_estimators=190; total time=   0.4s\n",
      "[CV] END ................learning_rate=0.2, n_estimators=190; total time=   0.5s\n",
      "[CV] END ................learning_rate=0.2, n_estimators=190; total time=   0.5s\n",
      "[CV] END .................learning_rate=0.5, n_estimators=50; total time=   0.1s\n",
      "[CV] END .................learning_rate=0.5, n_estimators=50; total time=   0.0s\n",
      "[CV] END .................learning_rate=0.5, n_estimators=50; total time=   0.0s\n",
      "[CV] END .................learning_rate=0.5, n_estimators=60; total time=   0.1s\n",
      "[CV] END .................learning_rate=0.5, n_estimators=60; total time=   0.1s\n",
      "[CV] END .................learning_rate=0.5, n_estimators=60; total time=   0.1s\n",
      "[CV] END .................learning_rate=0.5, n_estimators=70; total time=   0.1s\n",
      "[CV] END .................learning_rate=0.5, n_estimators=70; total time=   0.1s\n",
      "[CV] END .................learning_rate=0.5, n_estimators=70; total time=   0.1s\n",
      "[CV] END .................learning_rate=0.5, n_estimators=80; total time=   0.1s\n",
      "[CV] END .................learning_rate=0.5, n_estimators=80; total time=   0.1s\n"
     ]
    },
    {
     "name": "stdout",
     "output_type": "stream",
     "text": [
      "[CV] END .................learning_rate=0.5, n_estimators=80; total time=   0.1s\n",
      "[CV] END .................learning_rate=0.5, n_estimators=90; total time=   0.2s\n",
      "[CV] END .................learning_rate=0.5, n_estimators=90; total time=   0.2s\n",
      "[CV] END .................learning_rate=0.5, n_estimators=90; total time=   0.2s\n",
      "[CV] END ................learning_rate=0.5, n_estimators=100; total time=   0.2s\n",
      "[CV] END ................learning_rate=0.5, n_estimators=100; total time=   0.2s\n",
      "[CV] END ................learning_rate=0.5, n_estimators=100; total time=   0.2s\n",
      "[CV] END ................learning_rate=0.5, n_estimators=110; total time=   0.2s\n",
      "[CV] END ................learning_rate=0.5, n_estimators=110; total time=   0.2s\n",
      "[CV] END ................learning_rate=0.5, n_estimators=110; total time=   0.2s\n",
      "[CV] END ................learning_rate=0.5, n_estimators=120; total time=   0.2s\n",
      "[CV] END ................learning_rate=0.5, n_estimators=120; total time=   0.2s\n",
      "[CV] END ................learning_rate=0.5, n_estimators=120; total time=   0.3s\n",
      "[CV] END ................learning_rate=0.5, n_estimators=130; total time=   0.3s\n",
      "[CV] END ................learning_rate=0.5, n_estimators=130; total time=   0.3s\n",
      "[CV] END ................learning_rate=0.5, n_estimators=130; total time=   0.3s\n",
      "[CV] END ................learning_rate=0.5, n_estimators=140; total time=   0.3s\n",
      "[CV] END ................learning_rate=0.5, n_estimators=140; total time=   0.3s\n",
      "[CV] END ................learning_rate=0.5, n_estimators=140; total time=   0.3s\n",
      "[CV] END ................learning_rate=0.5, n_estimators=150; total time=   0.3s\n",
      "[CV] END ................learning_rate=0.5, n_estimators=150; total time=   0.3s\n",
      "[CV] END ................learning_rate=0.5, n_estimators=150; total time=   0.3s\n",
      "[CV] END ................learning_rate=0.5, n_estimators=160; total time=   0.3s\n",
      "[CV] END ................learning_rate=0.5, n_estimators=160; total time=   0.3s\n",
      "[CV] END ................learning_rate=0.5, n_estimators=160; total time=   0.3s\n",
      "[CV] END ................learning_rate=0.5, n_estimators=170; total time=   0.3s\n",
      "[CV] END ................learning_rate=0.5, n_estimators=170; total time=   0.3s\n",
      "[CV] END ................learning_rate=0.5, n_estimators=170; total time=   0.3s\n",
      "[CV] END ................learning_rate=0.5, n_estimators=180; total time=   0.4s\n",
      "[CV] END ................learning_rate=0.5, n_estimators=180; total time=   0.4s\n",
      "[CV] END ................learning_rate=0.5, n_estimators=180; total time=   0.4s\n",
      "[CV] END ................learning_rate=0.5, n_estimators=190; total time=   0.4s\n",
      "[CV] END ................learning_rate=0.5, n_estimators=190; total time=   0.4s\n",
      "[CV] END ................learning_rate=0.5, n_estimators=190; total time=   0.4s\n",
      "[CV] END .................learning_rate=0.7, n_estimators=50; total time=   0.0s\n",
      "[CV] END .................learning_rate=0.7, n_estimators=50; total time=   0.0s\n",
      "[CV] END .................learning_rate=0.7, n_estimators=50; total time=   0.0s\n",
      "[CV] END .................learning_rate=0.7, n_estimators=60; total time=   0.1s\n",
      "[CV] END .................learning_rate=0.7, n_estimators=60; total time=   0.1s\n",
      "[CV] END .................learning_rate=0.7, n_estimators=60; total time=   0.1s\n",
      "[CV] END .................learning_rate=0.7, n_estimators=70; total time=   0.1s\n",
      "[CV] END .................learning_rate=0.7, n_estimators=70; total time=   0.1s\n",
      "[CV] END .................learning_rate=0.7, n_estimators=70; total time=   0.1s\n",
      "[CV] END .................learning_rate=0.7, n_estimators=80; total time=   0.1s\n",
      "[CV] END .................learning_rate=0.7, n_estimators=80; total time=   0.1s\n",
      "[CV] END .................learning_rate=0.7, n_estimators=80; total time=   0.1s\n",
      "[CV] END .................learning_rate=0.7, n_estimators=90; total time=   0.1s\n",
      "[CV] END .................learning_rate=0.7, n_estimators=90; total time=   0.1s\n",
      "[CV] END .................learning_rate=0.7, n_estimators=90; total time=   0.1s\n",
      "[CV] END ................learning_rate=0.7, n_estimators=100; total time=   0.2s\n",
      "[CV] END ................learning_rate=0.7, n_estimators=100; total time=   0.2s\n",
      "[CV] END ................learning_rate=0.7, n_estimators=100; total time=   0.2s\n",
      "[CV] END ................learning_rate=0.7, n_estimators=110; total time=   0.2s\n",
      "[CV] END ................learning_rate=0.7, n_estimators=110; total time=   0.2s\n",
      "[CV] END ................learning_rate=0.7, n_estimators=110; total time=   0.2s\n",
      "[CV] END ................learning_rate=0.7, n_estimators=120; total time=   0.2s\n",
      "[CV] END ................learning_rate=0.7, n_estimators=120; total time=   0.2s\n",
      "[CV] END ................learning_rate=0.7, n_estimators=120; total time=   0.2s\n",
      "[CV] END ................learning_rate=0.7, n_estimators=130; total time=   0.3s\n",
      "[CV] END ................learning_rate=0.7, n_estimators=130; total time=   0.2s\n",
      "[CV] END ................learning_rate=0.7, n_estimators=130; total time=   0.2s\n",
      "[CV] END ................learning_rate=0.7, n_estimators=140; total time=   0.3s\n",
      "[CV] END ................learning_rate=0.7, n_estimators=140; total time=   0.3s\n",
      "[CV] END ................learning_rate=0.7, n_estimators=140; total time=   0.3s\n",
      "[CV] END ................learning_rate=0.7, n_estimators=150; total time=   0.3s\n",
      "[CV] END ................learning_rate=0.7, n_estimators=150; total time=   0.3s\n",
      "[CV] END ................learning_rate=0.7, n_estimators=150; total time=   0.3s\n",
      "[CV] END ................learning_rate=0.7, n_estimators=160; total time=   0.3s\n",
      "[CV] END ................learning_rate=0.7, n_estimators=160; total time=   0.3s\n",
      "[CV] END ................learning_rate=0.7, n_estimators=160; total time=   0.3s\n",
      "[CV] END ................learning_rate=0.7, n_estimators=170; total time=   0.3s\n",
      "[CV] END ................learning_rate=0.7, n_estimators=170; total time=   0.3s\n",
      "[CV] END ................learning_rate=0.7, n_estimators=170; total time=   0.4s\n",
      "[CV] END ................learning_rate=0.7, n_estimators=180; total time=   0.4s\n",
      "[CV] END ................learning_rate=0.7, n_estimators=180; total time=   0.4s\n",
      "[CV] END ................learning_rate=0.7, n_estimators=180; total time=   0.4s\n",
      "[CV] END ................learning_rate=0.7, n_estimators=190; total time=   0.4s\n",
      "[CV] END ................learning_rate=0.7, n_estimators=190; total time=   0.4s\n",
      "[CV] END ................learning_rate=0.7, n_estimators=190; total time=   0.4s\n",
      "[CV] END .................learning_rate=0.9, n_estimators=50; total time=   0.0s\n",
      "[CV] END .................learning_rate=0.9, n_estimators=50; total time=   0.0s\n",
      "[CV] END .................learning_rate=0.9, n_estimators=50; total time=   0.0s\n",
      "[CV] END .................learning_rate=0.9, n_estimators=60; total time=   0.1s\n",
      "[CV] END .................learning_rate=0.9, n_estimators=60; total time=   0.1s\n",
      "[CV] END .................learning_rate=0.9, n_estimators=60; total time=   0.1s\n",
      "[CV] END .................learning_rate=0.9, n_estimators=70; total time=   0.1s\n",
      "[CV] END .................learning_rate=0.9, n_estimators=70; total time=   0.1s\n",
      "[CV] END .................learning_rate=0.9, n_estimators=70; total time=   0.1s\n",
      "[CV] END .................learning_rate=0.9, n_estimators=80; total time=   0.1s\n",
      "[CV] END .................learning_rate=0.9, n_estimators=80; total time=   0.1s\n",
      "[CV] END .................learning_rate=0.9, n_estimators=80; total time=   0.1s\n",
      "[CV] END .................learning_rate=0.9, n_estimators=90; total time=   0.1s\n",
      "[CV] END .................learning_rate=0.9, n_estimators=90; total time=   0.1s\n",
      "[CV] END .................learning_rate=0.9, n_estimators=90; total time=   0.1s\n",
      "[CV] END ................learning_rate=0.9, n_estimators=100; total time=   0.2s\n",
      "[CV] END ................learning_rate=0.9, n_estimators=100; total time=   0.2s\n",
      "[CV] END ................learning_rate=0.9, n_estimators=100; total time=   0.2s\n",
      "[CV] END ................learning_rate=0.9, n_estimators=110; total time=   0.2s\n",
      "[CV] END ................learning_rate=0.9, n_estimators=110; total time=   0.2s\n",
      "[CV] END ................learning_rate=0.9, n_estimators=110; total time=   0.2s\n",
      "[CV] END ................learning_rate=0.9, n_estimators=120; total time=   0.2s\n",
      "[CV] END ................learning_rate=0.9, n_estimators=120; total time=   0.2s\n"
     ]
    },
    {
     "name": "stdout",
     "output_type": "stream",
     "text": [
      "[CV] END ................learning_rate=0.9, n_estimators=120; total time=   0.2s\n",
      "[CV] END ................learning_rate=0.9, n_estimators=130; total time=   0.2s\n",
      "[CV] END ................learning_rate=0.9, n_estimators=130; total time=   0.3s\n",
      "[CV] END ................learning_rate=0.9, n_estimators=130; total time=   0.2s\n",
      "[CV] END ................learning_rate=0.9, n_estimators=140; total time=   0.3s\n",
      "[CV] END ................learning_rate=0.9, n_estimators=140; total time=   0.3s\n",
      "[CV] END ................learning_rate=0.9, n_estimators=140; total time=   0.3s\n",
      "[CV] END ................learning_rate=0.9, n_estimators=150; total time=   0.3s\n",
      "[CV] END ................learning_rate=0.9, n_estimators=150; total time=   0.3s\n",
      "[CV] END ................learning_rate=0.9, n_estimators=150; total time=   0.3s\n",
      "[CV] END ................learning_rate=0.9, n_estimators=160; total time=   0.3s\n",
      "[CV] END ................learning_rate=0.9, n_estimators=160; total time=   0.3s\n",
      "[CV] END ................learning_rate=0.9, n_estimators=160; total time=   0.3s\n",
      "[CV] END ................learning_rate=0.9, n_estimators=170; total time=   0.3s\n",
      "[CV] END ................learning_rate=0.9, n_estimators=170; total time=   0.3s\n",
      "[CV] END ................learning_rate=0.9, n_estimators=170; total time=   0.4s\n",
      "[CV] END ................learning_rate=0.9, n_estimators=180; total time=   0.4s\n",
      "[CV] END ................learning_rate=0.9, n_estimators=180; total time=   0.4s\n",
      "[CV] END ................learning_rate=0.9, n_estimators=180; total time=   0.4s\n",
      "[CV] END ................learning_rate=0.9, n_estimators=190; total time=   0.4s\n",
      "[CV] END ................learning_rate=0.9, n_estimators=190; total time=   0.4s\n",
      "[CV] END ................learning_rate=0.9, n_estimators=190; total time=   0.4s\n",
      "[CV] END .................learning_rate=1.0, n_estimators=50; total time=   0.0s\n",
      "[CV] END .................learning_rate=1.0, n_estimators=50; total time=   0.0s\n",
      "[CV] END .................learning_rate=1.0, n_estimators=50; total time=   0.0s\n",
      "[CV] END .................learning_rate=1.0, n_estimators=60; total time=   0.1s\n",
      "[CV] END .................learning_rate=1.0, n_estimators=60; total time=   0.1s\n",
      "[CV] END .................learning_rate=1.0, n_estimators=60; total time=   0.1s\n",
      "[CV] END .................learning_rate=1.0, n_estimators=70; total time=   0.1s\n",
      "[CV] END .................learning_rate=1.0, n_estimators=70; total time=   0.1s\n",
      "[CV] END .................learning_rate=1.0, n_estimators=70; total time=   0.1s\n",
      "[CV] END .................learning_rate=1.0, n_estimators=80; total time=   0.1s\n",
      "[CV] END .................learning_rate=1.0, n_estimators=80; total time=   0.1s\n",
      "[CV] END .................learning_rate=1.0, n_estimators=80; total time=   0.1s\n",
      "[CV] END .................learning_rate=1.0, n_estimators=90; total time=   0.1s\n",
      "[CV] END .................learning_rate=1.0, n_estimators=90; total time=   0.1s\n",
      "[CV] END .................learning_rate=1.0, n_estimators=90; total time=   0.1s\n",
      "[CV] END ................learning_rate=1.0, n_estimators=100; total time=   0.2s\n",
      "[CV] END ................learning_rate=1.0, n_estimators=100; total time=   0.2s\n",
      "[CV] END ................learning_rate=1.0, n_estimators=100; total time=   0.2s\n",
      "[CV] END ................learning_rate=1.0, n_estimators=110; total time=   0.2s\n",
      "[CV] END ................learning_rate=1.0, n_estimators=110; total time=   0.2s\n",
      "[CV] END ................learning_rate=1.0, n_estimators=110; total time=   0.2s\n",
      "[CV] END ................learning_rate=1.0, n_estimators=120; total time=   0.2s\n",
      "[CV] END ................learning_rate=1.0, n_estimators=120; total time=   0.2s\n",
      "[CV] END ................learning_rate=1.0, n_estimators=120; total time=   0.2s\n",
      "[CV] END ................learning_rate=1.0, n_estimators=130; total time=   0.2s\n",
      "[CV] END ................learning_rate=1.0, n_estimators=130; total time=   0.2s\n",
      "[CV] END ................learning_rate=1.0, n_estimators=130; total time=   0.3s\n",
      "[CV] END ................learning_rate=1.0, n_estimators=140; total time=   0.3s\n",
      "[CV] END ................learning_rate=1.0, n_estimators=140; total time=   0.3s\n",
      "[CV] END ................learning_rate=1.0, n_estimators=140; total time=   0.3s\n",
      "[CV] END ................learning_rate=1.0, n_estimators=150; total time=   0.3s\n",
      "[CV] END ................learning_rate=1.0, n_estimators=150; total time=   0.3s\n",
      "[CV] END ................learning_rate=1.0, n_estimators=150; total time=   0.3s\n",
      "[CV] END ................learning_rate=1.0, n_estimators=160; total time=   0.3s\n",
      "[CV] END ................learning_rate=1.0, n_estimators=160; total time=   0.3s\n",
      "[CV] END ................learning_rate=1.0, n_estimators=160; total time=   0.3s\n",
      "[CV] END ................learning_rate=1.0, n_estimators=170; total time=   0.3s\n",
      "[CV] END ................learning_rate=1.0, n_estimators=170; total time=   0.3s\n",
      "[CV] END ................learning_rate=1.0, n_estimators=170; total time=   0.3s\n",
      "[CV] END ................learning_rate=1.0, n_estimators=180; total time=   0.4s\n",
      "[CV] END ................learning_rate=1.0, n_estimators=180; total time=   0.4s\n",
      "[CV] END ................learning_rate=1.0, n_estimators=180; total time=   0.4s\n",
      "[CV] END ................learning_rate=1.0, n_estimators=190; total time=   0.4s\n",
      "[CV] END ................learning_rate=1.0, n_estimators=190; total time=   0.4s\n",
      "[CV] END ................learning_rate=1.0, n_estimators=190; total time=   0.4s\n"
     ]
    },
    {
     "data": {
      "text/html": [
       "<style>#sk-container-id-3 {color: black;}#sk-container-id-3 pre{padding: 0;}#sk-container-id-3 div.sk-toggleable {background-color: white;}#sk-container-id-3 label.sk-toggleable__label {cursor: pointer;display: block;width: 100%;margin-bottom: 0;padding: 0.3em;box-sizing: border-box;text-align: center;}#sk-container-id-3 label.sk-toggleable__label-arrow:before {content: \"▸\";float: left;margin-right: 0.25em;color: #696969;}#sk-container-id-3 label.sk-toggleable__label-arrow:hover:before {color: black;}#sk-container-id-3 div.sk-estimator:hover label.sk-toggleable__label-arrow:before {color: black;}#sk-container-id-3 div.sk-toggleable__content {max-height: 0;max-width: 0;overflow: hidden;text-align: left;background-color: #f0f8ff;}#sk-container-id-3 div.sk-toggleable__content pre {margin: 0.2em;color: black;border-radius: 0.25em;background-color: #f0f8ff;}#sk-container-id-3 input.sk-toggleable__control:checked~div.sk-toggleable__content {max-height: 200px;max-width: 100%;overflow: auto;}#sk-container-id-3 input.sk-toggleable__control:checked~label.sk-toggleable__label-arrow:before {content: \"▾\";}#sk-container-id-3 div.sk-estimator input.sk-toggleable__control:checked~label.sk-toggleable__label {background-color: #d4ebff;}#sk-container-id-3 div.sk-label input.sk-toggleable__control:checked~label.sk-toggleable__label {background-color: #d4ebff;}#sk-container-id-3 input.sk-hidden--visually {border: 0;clip: rect(1px 1px 1px 1px);clip: rect(1px, 1px, 1px, 1px);height: 1px;margin: -1px;overflow: hidden;padding: 0;position: absolute;width: 1px;}#sk-container-id-3 div.sk-estimator {font-family: monospace;background-color: #f0f8ff;border: 1px dotted black;border-radius: 0.25em;box-sizing: border-box;margin-bottom: 0.5em;}#sk-container-id-3 div.sk-estimator:hover {background-color: #d4ebff;}#sk-container-id-3 div.sk-parallel-item::after {content: \"\";width: 100%;border-bottom: 1px solid gray;flex-grow: 1;}#sk-container-id-3 div.sk-label:hover label.sk-toggleable__label {background-color: #d4ebff;}#sk-container-id-3 div.sk-serial::before {content: \"\";position: absolute;border-left: 1px solid gray;box-sizing: border-box;top: 0;bottom: 0;left: 50%;z-index: 0;}#sk-container-id-3 div.sk-serial {display: flex;flex-direction: column;align-items: center;background-color: white;padding-right: 0.2em;padding-left: 0.2em;position: relative;}#sk-container-id-3 div.sk-item {position: relative;z-index: 1;}#sk-container-id-3 div.sk-parallel {display: flex;align-items: stretch;justify-content: center;background-color: white;position: relative;}#sk-container-id-3 div.sk-item::before, #sk-container-id-3 div.sk-parallel-item::before {content: \"\";position: absolute;border-left: 1px solid gray;box-sizing: border-box;top: 0;bottom: 0;left: 50%;z-index: -1;}#sk-container-id-3 div.sk-parallel-item {display: flex;flex-direction: column;z-index: 1;position: relative;background-color: white;}#sk-container-id-3 div.sk-parallel-item:first-child::after {align-self: flex-end;width: 50%;}#sk-container-id-3 div.sk-parallel-item:last-child::after {align-self: flex-start;width: 50%;}#sk-container-id-3 div.sk-parallel-item:only-child::after {width: 0;}#sk-container-id-3 div.sk-dashed-wrapped {border: 1px dashed gray;margin: 0 0.4em 0.5em 0.4em;box-sizing: border-box;padding-bottom: 0.4em;background-color: white;}#sk-container-id-3 div.sk-label label {font-family: monospace;font-weight: bold;display: inline-block;line-height: 1.2em;}#sk-container-id-3 div.sk-label-container {text-align: center;}#sk-container-id-3 div.sk-container {/* jupyter's `normalize.less` sets `[hidden] { display: none; }` but bootstrap.min.css set `[hidden] { display: none !important; }` so we also need the `!important` here to be able to override the default hidden behavior on the sphinx rendered scikit-learn.org. See: https://github.com/scikit-learn/scikit-learn/issues/21755 */display: inline-block !important;position: relative;}#sk-container-id-3 div.sk-text-repr-fallback {display: none;}</style><div id=\"sk-container-id-3\" class=\"sk-top-container\"><div class=\"sk-text-repr-fallback\"><pre>GridSearchCV(cv=3, estimator=AdaBoostClassifier(),\n",
       "             param_grid={&#x27;learning_rate&#x27;: [0.1, 0.2, 0.5, 0.7, 0.9, 1.0],\n",
       "                         &#x27;n_estimators&#x27;: [50, 60, 70, 80, 90, 100, 110, 120,\n",
       "                                          130, 140, 150, 160, 170, 180, 190]},\n",
       "             scoring=&#x27;f1&#x27;, verbose=2)</pre><b>In a Jupyter environment, please rerun this cell to show the HTML representation or trust the notebook. <br />On GitHub, the HTML representation is unable to render, please try loading this page with nbviewer.org.</b></div><div class=\"sk-container\" hidden><div class=\"sk-item sk-dashed-wrapped\"><div class=\"sk-label-container\"><div class=\"sk-label sk-toggleable\"><input class=\"sk-toggleable__control sk-hidden--visually\" id=\"sk-estimator-id-3\" type=\"checkbox\" ><label for=\"sk-estimator-id-3\" class=\"sk-toggleable__label sk-toggleable__label-arrow\">GridSearchCV</label><div class=\"sk-toggleable__content\"><pre>GridSearchCV(cv=3, estimator=AdaBoostClassifier(),\n",
       "             param_grid={&#x27;learning_rate&#x27;: [0.1, 0.2, 0.5, 0.7, 0.9, 1.0],\n",
       "                         &#x27;n_estimators&#x27;: [50, 60, 70, 80, 90, 100, 110, 120,\n",
       "                                          130, 140, 150, 160, 170, 180, 190]},\n",
       "             scoring=&#x27;f1&#x27;, verbose=2)</pre></div></div></div><div class=\"sk-parallel\"><div class=\"sk-parallel-item\"><div class=\"sk-item\"><div class=\"sk-label-container\"><div class=\"sk-label sk-toggleable\"><input class=\"sk-toggleable__control sk-hidden--visually\" id=\"sk-estimator-id-4\" type=\"checkbox\" ><label for=\"sk-estimator-id-4\" class=\"sk-toggleable__label sk-toggleable__label-arrow\">estimator: AdaBoostClassifier</label><div class=\"sk-toggleable__content\"><pre>AdaBoostClassifier()</pre></div></div></div><div class=\"sk-serial\"><div class=\"sk-item\"><div class=\"sk-estimator sk-toggleable\"><input class=\"sk-toggleable__control sk-hidden--visually\" id=\"sk-estimator-id-5\" type=\"checkbox\" ><label for=\"sk-estimator-id-5\" class=\"sk-toggleable__label sk-toggleable__label-arrow\">AdaBoostClassifier</label><div class=\"sk-toggleable__content\"><pre>AdaBoostClassifier()</pre></div></div></div></div></div></div></div></div></div></div>"
      ],
      "text/plain": [
       "GridSearchCV(cv=3, estimator=AdaBoostClassifier(),\n",
       "             param_grid={'learning_rate': [0.1, 0.2, 0.5, 0.7, 0.9, 1.0],\n",
       "                         'n_estimators': [50, 60, 70, 80, 90, 100, 110, 120,\n",
       "                                          130, 140, 150, 160, 170, 180, 190]},\n",
       "             scoring='f1', verbose=2)"
      ]
     },
     "execution_count": 114,
     "metadata": {},
     "output_type": "execute_result"
    }
   ],
   "source": [
    "gscv.fit(xtrain,ytrain)"
   ]
  },
  {
   "cell_type": "code",
   "execution_count": 116,
   "id": "1673e446",
   "metadata": {},
   "outputs": [
    {
     "data": {
      "text/plain": [
       "{'learning_rate': 0.7, 'n_estimators': 50}"
      ]
     },
     "execution_count": 116,
     "metadata": {},
     "output_type": "execute_result"
    }
   ],
   "source": [
    "best = gscv.best_params_\n",
    "best"
   ]
  },
  {
   "cell_type": "code",
   "execution_count": 117,
   "id": "26c82136",
   "metadata": {},
   "outputs": [],
   "source": [
    "ada = AdaBoostClassifier(**best)"
   ]
  },
  {
   "cell_type": "code",
   "execution_count": 118,
   "id": "d4f53a9e",
   "metadata": {},
   "outputs": [
    {
     "data": {
      "text/html": [
       "<style>#sk-container-id-4 {color: black;}#sk-container-id-4 pre{padding: 0;}#sk-container-id-4 div.sk-toggleable {background-color: white;}#sk-container-id-4 label.sk-toggleable__label {cursor: pointer;display: block;width: 100%;margin-bottom: 0;padding: 0.3em;box-sizing: border-box;text-align: center;}#sk-container-id-4 label.sk-toggleable__label-arrow:before {content: \"▸\";float: left;margin-right: 0.25em;color: #696969;}#sk-container-id-4 label.sk-toggleable__label-arrow:hover:before {color: black;}#sk-container-id-4 div.sk-estimator:hover label.sk-toggleable__label-arrow:before {color: black;}#sk-container-id-4 div.sk-toggleable__content {max-height: 0;max-width: 0;overflow: hidden;text-align: left;background-color: #f0f8ff;}#sk-container-id-4 div.sk-toggleable__content pre {margin: 0.2em;color: black;border-radius: 0.25em;background-color: #f0f8ff;}#sk-container-id-4 input.sk-toggleable__control:checked~div.sk-toggleable__content {max-height: 200px;max-width: 100%;overflow: auto;}#sk-container-id-4 input.sk-toggleable__control:checked~label.sk-toggleable__label-arrow:before {content: \"▾\";}#sk-container-id-4 div.sk-estimator input.sk-toggleable__control:checked~label.sk-toggleable__label {background-color: #d4ebff;}#sk-container-id-4 div.sk-label input.sk-toggleable__control:checked~label.sk-toggleable__label {background-color: #d4ebff;}#sk-container-id-4 input.sk-hidden--visually {border: 0;clip: rect(1px 1px 1px 1px);clip: rect(1px, 1px, 1px, 1px);height: 1px;margin: -1px;overflow: hidden;padding: 0;position: absolute;width: 1px;}#sk-container-id-4 div.sk-estimator {font-family: monospace;background-color: #f0f8ff;border: 1px dotted black;border-radius: 0.25em;box-sizing: border-box;margin-bottom: 0.5em;}#sk-container-id-4 div.sk-estimator:hover {background-color: #d4ebff;}#sk-container-id-4 div.sk-parallel-item::after {content: \"\";width: 100%;border-bottom: 1px solid gray;flex-grow: 1;}#sk-container-id-4 div.sk-label:hover label.sk-toggleable__label {background-color: #d4ebff;}#sk-container-id-4 div.sk-serial::before {content: \"\";position: absolute;border-left: 1px solid gray;box-sizing: border-box;top: 0;bottom: 0;left: 50%;z-index: 0;}#sk-container-id-4 div.sk-serial {display: flex;flex-direction: column;align-items: center;background-color: white;padding-right: 0.2em;padding-left: 0.2em;position: relative;}#sk-container-id-4 div.sk-item {position: relative;z-index: 1;}#sk-container-id-4 div.sk-parallel {display: flex;align-items: stretch;justify-content: center;background-color: white;position: relative;}#sk-container-id-4 div.sk-item::before, #sk-container-id-4 div.sk-parallel-item::before {content: \"\";position: absolute;border-left: 1px solid gray;box-sizing: border-box;top: 0;bottom: 0;left: 50%;z-index: -1;}#sk-container-id-4 div.sk-parallel-item {display: flex;flex-direction: column;z-index: 1;position: relative;background-color: white;}#sk-container-id-4 div.sk-parallel-item:first-child::after {align-self: flex-end;width: 50%;}#sk-container-id-4 div.sk-parallel-item:last-child::after {align-self: flex-start;width: 50%;}#sk-container-id-4 div.sk-parallel-item:only-child::after {width: 0;}#sk-container-id-4 div.sk-dashed-wrapped {border: 1px dashed gray;margin: 0 0.4em 0.5em 0.4em;box-sizing: border-box;padding-bottom: 0.4em;background-color: white;}#sk-container-id-4 div.sk-label label {font-family: monospace;font-weight: bold;display: inline-block;line-height: 1.2em;}#sk-container-id-4 div.sk-label-container {text-align: center;}#sk-container-id-4 div.sk-container {/* jupyter's `normalize.less` sets `[hidden] { display: none; }` but bootstrap.min.css set `[hidden] { display: none !important; }` so we also need the `!important` here to be able to override the default hidden behavior on the sphinx rendered scikit-learn.org. See: https://github.com/scikit-learn/scikit-learn/issues/21755 */display: inline-block !important;position: relative;}#sk-container-id-4 div.sk-text-repr-fallback {display: none;}</style><div id=\"sk-container-id-4\" class=\"sk-top-container\"><div class=\"sk-text-repr-fallback\"><pre>AdaBoostClassifier(learning_rate=0.7)</pre><b>In a Jupyter environment, please rerun this cell to show the HTML representation or trust the notebook. <br />On GitHub, the HTML representation is unable to render, please try loading this page with nbviewer.org.</b></div><div class=\"sk-container\" hidden><div class=\"sk-item\"><div class=\"sk-estimator sk-toggleable\"><input class=\"sk-toggleable__control sk-hidden--visually\" id=\"sk-estimator-id-6\" type=\"checkbox\" checked><label for=\"sk-estimator-id-6\" class=\"sk-toggleable__label sk-toggleable__label-arrow\">AdaBoostClassifier</label><div class=\"sk-toggleable__content\"><pre>AdaBoostClassifier(learning_rate=0.7)</pre></div></div></div></div></div>"
      ],
      "text/plain": [
       "AdaBoostClassifier(learning_rate=0.7)"
      ]
     },
     "execution_count": 118,
     "metadata": {},
     "output_type": "execute_result"
    }
   ],
   "source": [
    "ada.fit(xtrain,ytrain)"
   ]
  },
  {
   "cell_type": "code",
   "execution_count": 120,
   "id": "7e4a7c56",
   "metadata": {},
   "outputs": [
    {
     "name": "stdout",
     "output_type": "stream",
     "text": [
      "              precision    recall  f1-score   support\n",
      "\n",
      "           0       0.83      0.86      0.85       106\n",
      "           1       0.79      0.75      0.77        73\n",
      "\n",
      "    accuracy                           0.82       179\n",
      "   macro avg       0.81      0.81      0.81       179\n",
      "weighted avg       0.81      0.82      0.81       179\n",
      "\n"
     ]
    }
   ],
   "source": [
    "pred = ada.predict(xtest)\n",
    "print(classification_report(ytest,pred))"
   ]
  },
  {
   "cell_type": "code",
   "execution_count": null,
   "id": "88630276",
   "metadata": {},
   "outputs": [],
   "source": []
  }
 ],
 "metadata": {
  "kernelspec": {
   "display_name": "Python 3 (ipykernel)",
   "language": "python",
   "name": "python3"
  },
  "language_info": {
   "codemirror_mode": {
    "name": "ipython",
    "version": 3
   },
   "file_extension": ".py",
   "mimetype": "text/x-python",
   "name": "python",
   "nbconvert_exporter": "python",
   "pygments_lexer": "ipython3",
   "version": "3.11.4"
  }
 },
 "nbformat": 4,
 "nbformat_minor": 5
}
